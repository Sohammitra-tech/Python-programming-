{
 "cells": [
  {
   "cell_type": "code",
   "execution_count": 1,
   "id": "929abe95",
   "metadata": {},
   "outputs": [],
   "source": [
    "# Write a Python Program to make a Basic Calculator"
   ]
  },
  {
   "cell_type": "code",
   "execution_count": 2,
   "id": "d659d0b9",
   "metadata": {},
   "outputs": [
    {
     "name": "stdout",
     "output_type": "stream",
     "text": [
      "Enter 1st Number : 12\n",
      "Enter 2nd Number : 10\n",
      "Addition will be :  22\n",
      "Subtraction will be :  2\n",
      "Multiplication will be :  120\n",
      "Division will be :  1\n",
      "Modulus operation will be :  2\n"
     ]
    }
   ],
   "source": [
    "a=int(input(\"Enter 1st Number : \"))\n",
    "b=int(input(\"Enter 2nd Number : \"))\n",
    "c=a+b\n",
    "d=a-b\n",
    "e=a*b\n",
    "f=a//b\n",
    "g=a%b\n",
    "print(\"Addition will be : \",c)\n",
    "print(\"Subtraction will be : \",d)\n",
    "print(\"Multiplication will be : \",e)\n",
    "print(\"Division will be : \",f)\n",
    "print(\"Modulus operation will be : \",g)"
   ]
  },
  {
   "cell_type": "code",
   "execution_count": 3,
   "id": "1b48d7dd",
   "metadata": {},
   "outputs": [
    {
     "name": "stdout",
     "output_type": "stream",
     "text": [
      "Enter 1st Number : 12\n",
      "Enter 2nd Number : 10\n",
      "Addition will be :  22\n",
      "Subtraction will be :  2\n",
      "Multiplication will be :  120\n",
      "Division will be :  1\n",
      "Module Operation will be :  2\n"
     ]
    }
   ],
   "source": [
    "# Write a Python Program to make a Basic Calculator(Using Function)\n",
    "def add(a,b):\n",
    "    c=a+b\n",
    "    return c\n",
    "def sub(a,b):\n",
    "    c=a-b\n",
    "    return c\n",
    "def mul(a,b):\n",
    "    c=a*b\n",
    "    return c\n",
    "def div(a,b):\n",
    "    c=a//b\n",
    "    return c\n",
    "def mod(a,b):\n",
    "    c=a%b\n",
    "    return c\n",
    "a=int(input(\"Enter 1st Number : \"))\n",
    "b=int(input(\"Enter 2nd Number : \"))\n",
    "print(\"Addition will be : \",add(a,b))\n",
    "print(\"Subtraction will be : \",sub(a,b))\n",
    "print(\"Multiplication will be : \",mul(a,b))\n",
    "print(\"Division will be : \",div(a,b))\n",
    "print(\"Module Operation will be : \",mod(a,b))"
   ]
  },
  {
   "cell_type": "code",
   "execution_count": 4,
   "id": "936c8e4d",
   "metadata": {},
   "outputs": [
    {
     "name": "stdout",
     "output_type": "stream",
     "text": [
      "Enter 1st Number : 2\n",
      "Enter 2nd Number : 3\n",
      "After swapping : a=  3 b=  2\n"
     ]
    }
   ],
   "source": [
    "#Write a Python Program to swap two numbers(using 3rd variable)\n",
    "def swap(a,b):\n",
    "    c=a\n",
    "    a=b\n",
    "    b=c\n",
    "    return a,b\n",
    "a=int(input(\"Enter 1st Number : \"))\n",
    "b=int(input(\"Enter 2nd Number : \"))\n",
    "a,b=swap(a,b)\n",
    "print(\"After swapping : a= \",a,\"b= \",b)"
   ]
  },
  {
   "cell_type": "code",
   "execution_count": 5,
   "id": "e52e1cc1",
   "metadata": {},
   "outputs": [
    {
     "name": "stdout",
     "output_type": "stream",
     "text": [
      "Enter 1st Number : 2\n",
      "Enter 2nd Number : 5\n",
      "After swapping : a=  5 b=  2\n"
     ]
    }
   ],
   "source": [
    "#Write a Python Program to swap two numbers( Without using 3rd variable)\n",
    "def swap(a,b):\n",
    "    a=a+b\n",
    "    b=a-b\n",
    "    a=a-b\n",
    "    return a,b\n",
    "a=int(input(\"Enter 1st Number : \"))\n",
    "b=int(input(\"Enter 2nd Number : \"))\n",
    "a,b=swap(a,b)\n",
    "print(\"After swapping : a= \",a,\"b= \",b)"
   ]
  },
  {
   "cell_type": "code",
   "execution_count": 6,
   "id": "ce639253",
   "metadata": {},
   "outputs": [
    {
     "name": "stdout",
     "output_type": "stream",
     "text": [
      "Enter 1st Number : 10\n",
      "Enter 2nd Number : 20\n",
      "After swapping : a=  20 b=  10\n"
     ]
    }
   ],
   "source": [
    "#Write a Python Program to swap two numbers(Using special feature of Python)\n",
    "def swap(a,b):\n",
    "    a,b=b,a\n",
    "    return a,b\n",
    "a=int(input(\"Enter 1st Number : \"))\n",
    "b=int(input(\"Enter 2nd Number : \"))\n",
    "a,b=swap(a,b)\n",
    "print(\"After swapping : a= \",a,\"b= \",b)"
   ]
  },
  {
   "cell_type": "code",
   "execution_count": 9,
   "id": "ff375df7",
   "metadata": {},
   "outputs": [
    {
     "name": "stdout",
     "output_type": "stream",
     "text": [
      "Enter the radius : 3\n",
      "Area will be :  28.259999999999998\n",
      "Perimeter will be :  18.84\n"
     ]
    }
   ],
   "source": [
    "# Write a Python Program to calculate area and perimeter of a circle\n",
    "r=int(input(\"Enter the radius : \"))\n",
    "area=3.14*r*r\n",
    "peri=2*3.14*r\n",
    "print(\"Area will be : \",area)\n",
    "print(\"Perimeter will be : \",peri)"
   ]
  },
  {
   "cell_type": "code",
   "execution_count": 10,
   "id": "6e00d009",
   "metadata": {},
   "outputs": [
    {
     "name": "stdout",
     "output_type": "stream",
     "text": [
      "Enter the length : 10\n",
      "Enter the width : 8\n",
      "Area will be :  80\n",
      "Perimeter will be :  36\n"
     ]
    }
   ],
   "source": [
    "# Write a Python Program to calculate area and perimeter of a Rectangle\n",
    "l=int(input(\"Enter the length : \"))\n",
    "w=int(input(\"Enter the width : \"))\n",
    "area=l*w\n",
    "peri=2*(l+w)\n",
    "print(\"Area will be : \",area)\n",
    "print(\"Perimeter will be : \",peri)"
   ]
  },
  {
   "cell_type": "code",
   "execution_count": 13,
   "id": "66d9a1c1",
   "metadata": {},
   "outputs": [
    {
     "name": "stdout",
     "output_type": "stream",
     "text": [
      "Enter the Radius : 6\n",
      "Volume will be :  904.3199999999999\n",
      "Surface will be :  452.16\n"
     ]
    }
   ],
   "source": [
    "# Write a Python Program to calculate volume and surface area of a sphere\n",
    "r=int(input(\"Enter the Radius : \"))\n",
    "pi=3.14\n",
    "volume=(4/3)*pi*r**3\n",
    "sa=4*pi*r**2\n",
    "print(\"Volume will be : \",volume)\n",
    "print(\"Surface will be : \",sa)"
   ]
  },
  {
   "cell_type": "code",
   "execution_count": 1,
   "id": "030fc9e8",
   "metadata": {},
   "outputs": [
    {
     "name": "stdout",
     "output_type": "stream",
     "text": [
      "Enter 1st side : 20\n",
      "Enter 2nd side : 15\n",
      "Enter 3rd side : 10\n",
      "Area will be :  60.794736614282655\n",
      "Perimeter will be :  45\n"
     ]
    }
   ],
   "source": [
    "# Write a Python Program to calculate area and perimeter of a triangle where three sides are given\n",
    "a=int(input(\"Enter 1st side : \"))\n",
    "b=int(input(\"Enter 2nd side : \"))\n",
    "c=int(input(\"Enter 3rd side : \"))\n",
    "peri= a+b+c\n",
    "s=peri//2\n",
    "area=(s*(s-a)*(s-b)*(s-c))**0.5\n",
    "print(\"Area will be : \",area)\n",
    "print(\"Perimeter will be : \",peri)"
   ]
  },
  {
   "cell_type": "code",
   "execution_count": 13,
   "id": "7f5c20ea",
   "metadata": {},
   "outputs": [
    {
     "name": "stdout",
     "output_type": "stream",
     "text": [
      "Enter any number : 370\n",
      "370 is Armstrong Number\n"
     ]
    }
   ],
   "source": [
    "#Write a Python Program to check whether a number is Armsrtong or not\n",
    "def arm(n):\n",
    "    s=0\n",
    "    t=n\n",
    "    digit=len(str(n))\n",
    "    while(n>0):\n",
    "        r=n%10\n",
    "        s=s+r**digit\n",
    "        n=n//10\n",
    "    return s==t\n",
    "n=int(input(\"Enter any number : \"))\n",
    "if(arm(n)):\n",
    "    print(n,\"is Armstrong Number\")\n",
    "else:\n",
    "    print(n,\"is not Armstrong Number\")"
   ]
  },
  {
   "cell_type": "code",
   "execution_count": 21,
   "id": "0aa68690",
   "metadata": {},
   "outputs": [
    {
     "name": "stdout",
     "output_type": "stream",
     "text": [
      "Enter a Number : 131\n",
      "131 is Palindrome\n"
     ]
    }
   ],
   "source": [
    "# Write a Python Program to check whether a number is Palindrome or not\n",
    "def palindrome(number,temp):\n",
    "    reverse=0\n",
    "    while(number>0):\n",
    "        digit=number%10\n",
    "        reverse=(reverse*10)+digit\n",
    "        number=number//10\n",
    "    if(reverse==temp):\n",
    "        return True\n",
    "    else:\n",
    "        return False\n",
    "number=int(input(\"Enter a Number : \"))\n",
    "temp=number\n",
    "result=palindrome(number,temp)\n",
    "if(result==True):\n",
    "    print(f\"{number} is Palindrome\")\n",
    "else:\n",
    "    print(f\"{number} is not Palindrome\")"
   ]
  },
  {
   "cell_type": "code",
   "execution_count": 24,
   "id": "3e1094cd",
   "metadata": {},
   "outputs": [
    {
     "name": "stdout",
     "output_type": "stream",
     "text": [
      "Enter the numbers : 7 2 1 4 5 6\n",
      "Addition will be :  25\n"
     ]
    }
   ],
   "source": [
    "# Write a Python Program to find the sum of all numbers of a given list using Function\n",
    "def add(list1):\n",
    "    sum_list=0\n",
    "    for i in list1:\n",
    "        sum_list+=i\n",
    "    return sum_list\n",
    "list1=list(map(int,input(\"Enter the numbers : \").split()))\n",
    "result=add(list1)\n",
    "print(f\"Addition will be : \",result)"
   ]
  },
  {
   "cell_type": "code",
   "execution_count": 27,
   "id": "7aae13c1",
   "metadata": {},
   "outputs": [
    {
     "name": "stdout",
     "output_type": "stream",
     "text": [
      "Enter the numbers : 1 2 3\n",
      "Reverse List will be :  [3, 2, 1]\n"
     ]
    }
   ],
   "source": [
    "# Write a Python Program to reverse a list\n",
    "def reverse(list1):\n",
    "    list2=list1[::-1]\n",
    "    return list2\n",
    "list1=list(map(int,input(\"Enter the numbers : \").split()))\n",
    "list2=reverse(list1)\n",
    "print(\"Reverse List will be : \",list2)"
   ]
  },
  {
   "cell_type": "code",
   "execution_count": 29,
   "id": "110a9213",
   "metadata": {},
   "outputs": [
    {
     "name": "stdout",
     "output_type": "stream",
     "text": [
      "Enter the numbers : 1 2 3 4 5 6\n",
      "Maximum element will be :6\n",
      "Minimum element will be :1\n"
     ]
    }
   ],
   "source": [
    "# Write a Python Program to find maximum and minimum elements in a list\n",
    "def max_list(num):\n",
    "    maximum=num[0]\n",
    "    minimum=num[0]\n",
    "    for i in num:\n",
    "        if(i>maximum):\n",
    "            maximum=i\n",
    "        if(i<minimum):\n",
    "            minimum=i\n",
    "    return maximum,minimum\n",
    "list1=list(map(int,input(\"Enter the numbers : \").split()))\n",
    "maxm,minm=max_list(list1)\n",
    "print(f\"Maximum element will be :{maxm}\")\n",
    "print(f\"Minimum element will be :{minm}\")"
   ]
  },
  {
   "cell_type": "code",
   "execution_count": 38,
   "id": "4be03631",
   "metadata": {},
   "outputs": [
    {
     "name": "stdout",
     "output_type": "stream",
     "text": [
      "Enter the numbers : 1 2 3 6 5 4\n",
      "Enter the item to search : 6\n",
      "6 is present in the list\n"
     ]
    }
   ],
   "source": [
    "# Write a Python program for Binary Search\n",
    "def binary_search(num,item):\n",
    "    low=0\n",
    "    high=len(num)-1\n",
    "    while(low<=high):\n",
    "        mid=(low+high)//2\n",
    "        if(item==num[mid]):\n",
    "            return True\n",
    "        elif(item<num[mid]):\n",
    "            high=mid-1\n",
    "        else:\n",
    "            low=mid+1\n",
    "    return False\n",
    "list1=list(map(int,input(\"Enter the numbers : \").split()))\n",
    "list1.sort()\n",
    "key=int(input(\"Enter the item to search : \")) \n",
    "if(binary_search(list1,key)):\n",
    "    print(f\"{key} is present in the list\")\n",
    "else:\n",
    "    print(f\"{key} is not present in the list\")\n"
   ]
  },
  {
   "cell_type": "code",
   "execution_count": 39,
   "id": "3bbddca0",
   "metadata": {},
   "outputs": [
    {
     "name": "stdout",
     "output_type": "stream",
     "text": [
      "Enter the numbers : 1 2 3 4 5\n",
      "Enter the numbers : 4 5 6 7 8\n",
      "Intersection will be :  [4, 5]\n"
     ]
    }
   ],
   "source": [
    "# Write a program to find the intersection of two lists\n",
    "def intersection(list1,list2):\n",
    "    r=[]\n",
    "    for i in list1:\n",
    "        if i in list2 and i not in r:\n",
    "            r.append(i)\n",
    "    return r\n",
    "list1=list(map(int,input(\"Enter the numbers : \").split()))\n",
    "list2=list(map(int,input(\"Enter the numbers : \").split()))\n",
    "ans=intersection(list1,list2)\n",
    "print(\"Intersection will be : \",ans)"
   ]
  },
  {
   "cell_type": "code",
   "execution_count": 42,
   "id": "0fe3aee8",
   "metadata": {},
   "outputs": [
    {
     "name": "stdout",
     "output_type": "stream",
     "text": [
      "Enter the numbers for 1st list : 1 2 3 4 5 6\n",
      "Enter the numbers for 2nd list : 4 5 6 2 8 7\n",
      "Union of two sets will be :  [1, 2, 3, 4, 5, 6, 8, 7]\n"
     ]
    }
   ],
   "source": [
    "# Write a program to find the union of two lists\n",
    "def union(list1,list2):\n",
    "    r=list1[:]\n",
    "    for i in list1:\n",
    "        for i in list2:\n",
    "            if i not in r:\n",
    "                r.append(i)\n",
    "    return r\n",
    "list1=list(map(int,input(\"Enter the numbers for 1st list : \").split()))\n",
    "list2=list(map(int,input(\"Enter the numbers for 2nd list : \").split()))\n",
    "ans=union(list1,list2)\n",
    "print(\"Union of two sets will be : \",ans)"
   ]
  },
  {
   "cell_type": "code",
   "execution_count": 1,
   "id": "379a7aed",
   "metadata": {},
   "outputs": [
    {
     "name": "stdout",
     "output_type": "stream",
     "text": [
      "Enter the elements :  1 2 3 4 5 6\n",
      "Odd list will be : [1, 3, 5]\n",
      "Even list will be : [2, 4, 6]\n"
     ]
    }
   ],
   "source": [
    "# Write a Python Program to filter out even and odd numbers in a List\n",
    "def odd(myList):\n",
    "    r=[]\n",
    "    for i in myList:\n",
    "        if(i%2!=0):\n",
    "            r.append(i)\n",
    "    return r\n",
    "def even(myList):\n",
    "    r=[]\n",
    "    for i in myList:\n",
    "        if(i%2==0):\n",
    "            r.append(i)\n",
    "    return r\n",
    "list1=list(map(int,input(\"Enter the elements : \").split()))\n",
    "oddList=odd(list1)\n",
    "evenList=even(list1)\n",
    "print(f\"Odd list will be : {oddList}\")\n",
    "print(f\"Even list will be : {evenList}\")"
   ]
  },
  {
   "cell_type": "code",
   "execution_count": 2,
   "id": "2a6275e1",
   "metadata": {},
   "outputs": [
    {
     "name": "stdout",
     "output_type": "stream",
     "text": [
      "Enter the elements : 2 3 6 5 4 1\n",
      "The list in ascending order : [1, 2, 3, 4, 5, 6]\n",
      "The list in descending order : [6, 5, 4, 3, 2, 1]\n"
     ]
    }
   ],
   "source": [
    "# Write a Python Program to sort the elements in a list in ascending and descending order.\n",
    "def sort_list(data):\n",
    "    sorted_list=sorted(data)\n",
    "    sorted_list1=sorted(data,reverse=True)\n",
    "    return sorted_list,sorted_list1    \n",
    "    \n",
    "myList=list(map(int,input(\"Enter the elements : \").split()))\n",
    "list1,list2=sort_list(myList)\n",
    "print(f\"The list in ascending order : {list1}\")\n",
    "print(f\"The list in descending order : {list2}\")"
   ]
  },
  {
   "cell_type": "code",
   "execution_count": 4,
   "id": "71726b4c",
   "metadata": {},
   "outputs": [
    {
     "name": "stdout",
     "output_type": "stream",
     "text": [
      "Enter the elements : 1 2 3 4 5 6\n",
      "Enter the elements :  7 8 9 10 11 12\n",
      "[1, 2, 3, 4, 5, 6, 7, 8, 9, 10, 11, 12]\n"
     ]
    }
   ],
   "source": [
    "# Write a Python Program to concatenate two lists.\n",
    "def concatenate(list1,list2):\n",
    "    list3=list1+list2\n",
    "    return list3\n",
    "\n",
    "list1=list(map(int,input(\"Enter the elements : \").split()))\n",
    "list2=list(map(int,input(\"Enter the elements : \").split()))\n",
    "list3=concatenate(list1,list2)\n",
    "print(list3)"
   ]
  },
  {
   "cell_type": "code",
   "execution_count": 1,
   "id": "d492c724",
   "metadata": {},
   "outputs": [
    {
     "name": "stdout",
     "output_type": "stream",
     "text": [
      "(1, 2, 3, 4, 5)\n",
      "{1, 2, 3, 4, 5}\n",
      "[1, 2, 3, 4, 5]\n"
     ]
    }
   ],
   "source": [
    "#Write a python program to convert a list to tuple,set and then back to list\n",
    "my_list=[1,2,3,4,5]\n",
    "my_tuple=tuple(my_list)\n",
    "print(my_tuple)\n",
    "my_set=set(my_tuple)\n",
    "print(my_set)\n",
    "my_list=list(my_set)\n",
    "print(my_list)"
   ]
  },
  {
   "cell_type": "code",
   "execution_count": 5,
   "id": "dca42cd0",
   "metadata": {},
   "outputs": [
    {
     "name": "stdout",
     "output_type": "stream",
     "text": [
      "[[1, 2, 3], [4, 5, 6], [7, 8, 9], [10, 11, 12], [13, 14, 15], [16, 17, 18]]\n",
      "Flatten list will be : [1, 2, 3, 4, 5, 6, 7, 8, 9, 10, 11, 12, 13, 14, 15, 16, 17, 18]\n"
     ]
    }
   ],
   "source": [
    "# Wtrite a Python Program to flatten a list of lists\n",
    "'''def flat(data):\n",
    "    flat_list=[]\n",
    "    for row in data:\n",
    "        for elements in row:\n",
    "            flat_list.append(elements)\n",
    "    return flat_list'''\n",
    "def flat(data):\n",
    "    flat_list=[]\n",
    "    for row in data:\n",
    "        flat_list.extend(row)\n",
    "    return flat_list\n",
    "my_list=[[1,2,3],[4,5,6],[7,8,9],[10,11,12],[13,14,15],[16,17,18]]\n",
    "print(my_list)\n",
    "ans=flat(my_list)\n",
    "print(f\"Flatten list will be : {ans}\")"
   ]
  },
  {
   "cell_type": "code",
   "execution_count": 8,
   "id": "addf7a4e",
   "metadata": {},
   "outputs": [
    {
     "name": "stdout",
     "output_type": "stream",
     "text": [
      "Enter the elements : 1 2 3 4 5 5 21 54 2\n",
      "Enter the number whose occurrence is to be deleted : 4\n",
      "The new list will be : [1, 2, 3, 5, 5, 21, 54, 2]\n"
     ]
    }
   ],
   "source": [
    "# Write a Python Program to remove all occurences of a specific element from a given list\n",
    "def remove_occur(data,element):\n",
    "    r=[]\n",
    "    for i in data:\n",
    "        if(i!=element):\n",
    "            r.append(i)\n",
    "    return r\n",
    "my_list=list(map(int,input(\"Enter the elements : \").split()))\n",
    "item=int(input(\"Enter the number whose occurrence is to be deleted : \"))\n",
    "new_list=remove_occur(my_list,item)\n",
    "print(f\"The new list will be : {new_list}\")"
   ]
  },
  {
   "cell_type": "code",
   "execution_count": 10,
   "id": "f93cd131",
   "metadata": {},
   "outputs": [
    {
     "name": "stdout",
     "output_type": "stream",
     "text": [
      "Enter the elements : 1 2 5 4 7 8 9 1 3 6 5 4 \n",
      "Enter the position to rotate the list : 4\n",
      "The new list after rotation will be : [3, 6, 5, 4, 1, 2, 5, 4, 7, 8, 9, 1]\n"
     ]
    }
   ],
   "source": [
    "# Write a Python Program to rotate a list by a given number of positions\n",
    "def rotate_list(data,pos):\n",
    "    pos=pos%len(data)\n",
    "    new_list=data[-pos: ] + data[: -pos]\n",
    "    return new_list\n",
    "my_list=list(map(int,input(\"Enter the elements : \").split()))\n",
    "position=int(input(\"Enter the position to rotate the list : \"))\n",
    "new_list=rotate_list(my_list,position)\n",
    "print(f\"The new list after rotation will be : {new_list}\")"
   ]
  },
  {
   "cell_type": "code",
   "execution_count": null,
   "id": "0de14b97",
   "metadata": {},
   "outputs": [],
   "source": []
  }
 ],
 "metadata": {
  "kernelspec": {
   "display_name": "Python 3 (ipykernel)",
   "language": "python",
   "name": "python3"
  },
  "language_info": {
   "codemirror_mode": {
    "name": "ipython",
    "version": 3
   },
   "file_extension": ".py",
   "mimetype": "text/x-python",
   "name": "python",
   "nbconvert_exporter": "python",
   "pygments_lexer": "ipython3",
   "version": "3.11.4"
  }
 },
 "nbformat": 4,
 "nbformat_minor": 5
}
